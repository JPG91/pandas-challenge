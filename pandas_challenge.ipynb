{
 "cells": [
  {
   "cell_type": "markdown",
   "metadata": {},
   "source": [
    "### Note\n",
    "* Instructions have been included for each segment. You do not have to follow them exactly, but they are included to help you think through the steps."
   ]
  },
  {
   "cell_type": "code",
   "execution_count": 3,
   "metadata": {},
   "outputs": [
    {
     "ename": "SyntaxError",
     "evalue": "unexpected character after line continuation character (<ipython-input-3-7a3c4c988b53>, line 4)",
     "output_type": "error",
     "traceback": [
      "\u001b[1;36m  File \u001b[1;32m\"<ipython-input-3-7a3c4c988b53>\"\u001b[1;36m, line \u001b[1;32m4\u001b[0m\n\u001b[1;33m    pymoli = C\\Users\\JP\\Documents\\HeroesOfPymoli_Resources_purchase_data.csv\u001b[0m\n\u001b[1;37m                                                                            ^\u001b[0m\n\u001b[1;31mSyntaxError\u001b[0m\u001b[1;31m:\u001b[0m unexpected character after line continuation character\n"
     ]
    }
   ],
   "source": [
    "# Dependencies and Setup\n",
    "import pandas as pd\n",
    "# File to Load (Remember to Change These)\n",
    "pymoli = C\\Users\\JP\\Documents\\HeroesOfPymoli_Resources_purchase_data.csv\n",
    "# Read Purchasing File and store into Pandas data frame\n",
    "pymoli_df = pd.read_csv(pymoli,encoding='utf-8')"
   ]
  },
  {
   "cell_type": "markdown",
   "metadata": {},
   "source": [
    "## Player Count"
   ]
  },
  {
   "cell_type": "markdown",
   "metadata": {},
   "source": [
    "* Display the total number of players\n"
   ]
  },
  {
   "cell_type": "code",
   "execution_count": null,
   "metadata": {},
   "outputs": [],
   "source": [
    "total_players = len(pymoli_df[\"SN\"].unique())\n",
    "player_count = pd.DataFrame({\"Total players\":Total_players},index = [0])\n",
    "player_count"
   ]
  },
  {
   "cell_type": "markdown",
   "metadata": {},
   "source": [
    "## Purchasing Analysis (Total)"
   ]
  },
  {
   "cell_type": "markdown",
   "metadata": {},
   "source": [
    "* Run basic calculations to obtain number of unique items, average price, etc.\n",
    "\n",
    "\n",
    "* Create a summary data frame to hold the results\n",
    "\n",
    "\n",
    "* Optional: give the displayed data cleaner formatting\n",
    "\n",
    "\n",
    "* Display the summary data frame\n"
   ]
  },
  {
   "cell_type": "code",
   "execution_count": null,
   "metadata": {
    "scrolled": true
   },
   "outputs": [],
   "source": []
  },
  {
   "cell_type": "markdown",
   "metadata": {},
   "source": [
    "## Gender Demographics"
   ]
  },
  {
   "cell_type": "markdown",
   "metadata": {},
   "source": [
    "* Percentage and Count of Male Players\n",
    "\n",
    "\n",
    "* Percentage and Count of Female Players\n",
    "\n",
    "\n",
    "* Percentage and Count of Other / Non-Disclosed\n",
    "\n",
    "\n"
   ]
  },
  {
   "cell_type": "code",
   "execution_count": null,
   "metadata": {},
   "outputs": [],
   "source": [
    "gender_grouped = pymoli_df.groupby(\"Gender\")\n",
    "unique_members = gender_grouped[\"SN\"].nunique()\n",
    "percentage_of_players = (unique_members/Total_players)*100\n",
    "\n",
    "# Create a data frame with the summary gender data\n",
    "gender_summary = pd.DataFrame({\"Percentage of Players\": percentage_of_players,\"Total Counts\": unique_members})\n",
    "\n",
    "gender_summary[\"Percentage of Players\"] = gender_summary[\"Percentage of Players\"].map(\"{:.2f}\".format)\n",
    "\n",
    "gender_summary"
   ]
  },
  {
   "cell_type": "markdown",
   "metadata": {},
   "source": [
    "\n",
    "## Purchasing Analysis (Gender)"
   ]
  },
  {
   "cell_type": "markdown",
   "metadata": {},
   "source": [
    "* Run basic calculations to obtain purchase count, avg. purchase price, avg. purchase total per person etc. by gender\n",
    "\n",
    "\n",
    "\n",
    "\n",
    "* Create a summary data frame to hold the results\n",
    "\n",
    "\n",
    "* Optional: give the displayed data cleaner formatting\n",
    "\n",
    "\n",
    "* Display the summary data frame"
   ]
  },
  {
   "cell_type": "code",
   "execution_count": null,
   "metadata": {},
   "outputs": [],
   "source": [
    "# Purchasing Analysis(Gender)\n",
    "# Do a groupby on gender and calculations to obtain purchase count, avg. purchase price, avg. purchase total per person \n",
    "gender_grouped = pymoli_df.groupby(\"Gender\")\n",
    "purchase_count = gender_grouped[\"Age\"].count()\n",
    "avg_purchase = gender_grouped[\"Price\"].mean()\n",
    "total_purchase_value = gender_grouped[\"Price\"].sum()\n",
    "avg_purchase_person =(gender_grouped[\"Price\"].sum()/unique_members)\n",
    "\n",
    "# create a summary DataFrame to hold the above results \n",
    "summary_df = pd.DataFrame({\"Purchase count\":purchase_count,\"Average Purchase Price\":avg_purchase,\n",
    "                           \"Total Purchase value\":total_purchase_value,\"Average Purchase Total per person\":avg_purchase_person})\n",
    "# do a clean formatting \n",
    "summary_df[\"Average Purchase Price\"] = summary_df[\"Average Purchase Price\"].map(\"${:.2f}\".format)\n",
    "summary_df[\"Total Purchase value\"]  = summary_df[\"Total Purchase value\"].map(\"${:,.2f}\".format)\n",
    "summary_df[\"Average Purchase Total per person\"] = summary_df[\"Average Purchase Total per person\"].map(\"${:.2f}\".format)\n",
    "summary_df.head()"
   ]
  },
  {
   "cell_type": "markdown",
   "metadata": {},
   "source": [
    "## Age Demographics"
   ]
  },
  {
   "cell_type": "markdown",
   "metadata": {},
   "source": [
    "* Establish bins for ages\n",
    "\n",
    "\n",
    "* Categorize the existing players using the age bins. Hint: use pd.cut()\n",
    "\n",
    "\n",
    "* Calculate the numbers and percentages by age group\n",
    "\n",
    "\n",
    "* Create a summary data frame to hold the results\n",
    "\n",
    "\n",
    "* Optional: round the percentage column to two decimal points\n",
    "\n",
    "\n",
    "* Display Age Demographics Table\n"
   ]
  },
  {
   "cell_type": "code",
   "execution_count": null,
   "metadata": {},
   "outputs": [],
   "source": [
    "# Age Demographics\n",
    "# Establish bins for ages and create labels \n",
    "age_bins = [0, 9.90, 14.90, 19.90, 24.90, 29.90, 34.90, 39.90, 99999]\n",
    "group_names = [\"<10\", \"10-14\", \"15-19\", \"20-24\", \"25-29\", \"30-34\", \"35-39\", \"40+\"]\n",
    "\n",
    "# slice the data using pd.cut and  Categorize the existing players based on age_bins  \n",
    "pymoli_df[\"Age Group\"] = pd.cut(pymoli_df[\"Age\"],age_bins, labels=group_names)\n",
    "pymoli_df\n",
    "\n",
    "# do a groupby on Age Group \n",
    "pymoli_age_grouped = pymoli_df.groupby(\"Age Group\")\n",
    "#calculate total count and percenatge of players by age category\n",
    "unique_members = pymoli_age_grouped[\"SN\"].nunique()\n",
    "Percent_of_players = (unique_members/Total_players)*100\n",
    "# create a DataFrame to hold the above results \n",
    "age_demographics = pd.DataFrame({\"Percentage of players\":Percent_of_players,\"Total count\":unique_members})\n",
    "# change the index to none and do clean formatting \n",
    "age_demographics.index.name = None\n",
    "age_demographics[\"Percentage of players\"] = age_demographics[\"Percentage of players\"].map(\"{:.2f}\".format)\n",
    "age_demographics\n",
    "# Displaying Age Demographics table #"
   ]
  },
  {
   "cell_type": "markdown",
   "metadata": {},
   "source": [
    "## Purchasing Analysis (Age)"
   ]
  },
  {
   "cell_type": "markdown",
   "metadata": {},
   "source": [
    "* Bin the purchase_data data frame by age\n",
    "\n",
    "\n",
    "* Run basic calculations to obtain purchase count, avg. purchase price, avg. purchase total per person etc. in the table below\n",
    "\n",
    "\n",
    "* Create a summary data frame to hold the results\n",
    "\n",
    "\n",
    "* Optional: give the displayed data cleaner formatting\n",
    "\n",
    "\n",
    "* Display the summary data frame"
   ]
  },
  {
   "cell_type": "code",
   "execution_count": null,
   "metadata": {},
   "outputs": [],
   "source": [
    "# Purchasing Analysis(Age)\n",
    "\n",
    "# do calculations to obtain purchase count, avg. purchase price, total purchase value , average purchase per person\n",
    "purchase_count = pymoli_age_grouped[\"Age\"].count()\n",
    "avg_purchase = pymoli_age_grouped[\"Price\"].mean()\n",
    "total_purchase_value = pymoli_age_grouped[\"Price\"].sum()\n",
    "avg_purchase_person =(pymoli_age_grouped[\"Price\"].sum()/unique_members)\n",
    "\n",
    "# create a DataFrame to hold the above results \n",
    "Purchase_analysis_age = pd.DataFrame({\"Purchase count\":purchase_count,\"Average Purchase Price\":avg_purchase,\n",
    "                           \"Total Purchase value\":total_purchase_value,\"Average Purchase Total per person\":avg_purchase_person})\n",
    "# do a clean formatting \n",
    "Purchase_analysis_age[\"Average Purchase Price\"] = Purchase_analysis_age[\"Average Purchase Price\"].map(\"${:.2f}\".format)\n",
    "Purchase_analysis_age[\"Total Purchase value\"]  = Purchase_analysis_age[\"Total Purchase value\"].map(\"${:,.2f}\".format)\n",
    "Purchase_analysis_age[\"Average Purchase Total per person\"] = Purchase_analysis_age[\"Average Purchase Total per person\"].map(\"${:.2f}\".format)\n",
    "Purchase_analysis_age"
   ]
  },
  {
   "cell_type": "markdown",
   "metadata": {},
   "source": [
    "## Top Spenders"
   ]
  },
  {
   "cell_type": "markdown",
   "metadata": {},
   "source": [
    "* Run basic calculations to obtain the results in the table below\n",
    "\n",
    "\n",
    "* Create a summary data frame to hold the results\n",
    "\n",
    "\n",
    "* Sort the total purchase value column in descending order\n",
    "\n",
    "\n",
    "* Optional: give the displayed data cleaner formatting\n",
    "\n",
    "\n",
    "* Display a preview of the summary data frame\n",
    "\n"
   ]
  },
  {
   "cell_type": "code",
   "execution_count": null,
   "metadata": {},
   "outputs": [],
   "source": [
    "# Top Spenders \n",
    "# do a groupby on (SN-Screen Name) and assign it to a variable \n",
    "pymoli_SN_grouped = pymoli_df.groupby(\"SN\")\n",
    "\n",
    "# do calculations to obtain purchase count, avg. purchase price, total purchase value \n",
    "purchase_count = pymoli_SN_grouped[\"Age\"].count()\n",
    "avg_purchase = pymoli_SN_grouped[\"Price\"].mean()\n",
    "total_purchase_value = pymoli_SN_grouped[\"Price\"].sum()\n",
    "\n",
    "# create a DataFrame to hold the results \n",
    "Top_spenders = pd.DataFrame({\"Purchase count\":purchase_count,\"Average Purchase Price\":avg_purchase,\n",
    "                           \"Total Purchase value\":total_purchase_value})\n",
    "\n",
    "# Sort the total purchase value column in descending order \n",
    "Top_spenders = Top_spenders.sort_values(\"Total Purchase value\", ascending = False)\n",
    "\n",
    "# do a clean formatting \n",
    "Top_spenders[\"Average Purchase Price\"] = Top_spenders[\"Average Purchase Price\"].map(\"${:.2f}\".format)\n",
    "Top_spenders[\"Total Purchase value\"]  = Top_spenders[\"Total Purchase value\"].map(\"${:,.2f}\".format)\n",
    "\n",
    "# display the above results(Top Spenders sumamry table )\n",
    "Top_spenders.head()"
   ]
  },
  {
   "cell_type": "markdown",
   "metadata": {},
   "source": [
    "## Most Popular Items"
   ]
  },
  {
   "cell_type": "markdown",
   "metadata": {},
   "source": [
    "* Retrieve the Item ID, Item Name, and Item Price columns\n",
    "\n",
    "\n",
    "* Group by Item ID and Item Name. Perform calculations to obtain purchase count, average item price, and total purchase value\n",
    "\n",
    "\n",
    "* Create a summary data frame to hold the results\n",
    "\n",
    "\n",
    "* Sort the purchase count column in descending order\n",
    "\n",
    "\n",
    "* Optional: give the displayed data cleaner formatting\n",
    "\n",
    "\n",
    "* Display a preview of the summary data frame\n",
    "\n"
   ]
  },
  {
   "cell_type": "code",
   "execution_count": null,
   "metadata": {},
   "outputs": [],
   "source": [
    "#Most Popular Items\n",
    "# Retrieve the Item ID, Item Name, and Item Price columns (using .loc)  \n",
    "popular_df = pymoli_df.loc[:,[\"Item ID\",\"Item Name\",\"Price\"]]\n",
    "\n",
    "# Group by Item ID and Item Name. \n",
    "popular_grouped = pymoli_df.groupby([\"Item ID\",\"Item Name\"])\n",
    "\n",
    "# Perform calculations to obtain purchase count, item price, and total purchase value\n",
    "purchase_count = popular_grouped[\"Age\"].count()\n",
    "avg_purchase = popular_grouped[\"Price\"].mean()\n",
    "total_purchase_value = popular_grouped[\"Price\"].sum()\n",
    "\n",
    "# create a DataFrame to hold the results \n",
    "most_popular_items = pd.DataFrame({\"Purchase count\":purchase_count,\"Average Purchase Price\":avg_purchase,\n",
    "                                   \"Total Purchase value\":total_purchase_value})\n",
    "\n",
    "# display the Most Popular Items summary table \n",
    "most_popular_items.head()"
   ]
  },
  {
   "cell_type": "markdown",
   "metadata": {},
   "source": [
    "## Most Profitable Items"
   ]
  },
  {
   "cell_type": "markdown",
   "metadata": {},
   "source": [
    "* Sort the above table by total purchase value in descending order\n",
    "\n",
    "\n",
    "* Optional: give the displayed data cleaner formatting\n",
    "\n",
    "\n",
    "* Display a preview of the data frame\n",
    "\n"
   ]
  },
  {
   "cell_type": "code",
   "execution_count": null,
   "metadata": {
    "scrolled": true
   },
   "outputs": [],
   "source": []
  }
 ],
 "metadata": {
  "anaconda-cloud": {},
  "kernel_info": {
   "name": "python3"
  },
  "kernelspec": {
   "display_name": "Python 3",
   "language": "python",
   "name": "python3"
  },
  "language_info": {
   "codemirror_mode": {
    "name": "ipython",
    "version": 3
   },
   "file_extension": ".py",
   "mimetype": "text/x-python",
   "name": "python",
   "nbconvert_exporter": "python",
   "pygments_lexer": "ipython3",
   "version": "3.8.3"
  },
  "latex_envs": {
   "LaTeX_envs_menu_present": true,
   "autoclose": false,
   "autocomplete": true,
   "bibliofile": "biblio.bib",
   "cite_by": "apalike",
   "current_citInitial": 1,
   "eqLabelWithNumbers": true,
   "eqNumInitial": 1,
   "hotkeys": {
    "equation": "Ctrl-E",
    "itemize": "Ctrl-I"
   },
   "labels_anchors": false,
   "latex_user_defs": false,
   "report_style_numbering": false,
   "user_envs_cfg": false
  },
  "nteract": {
   "version": "0.2.0"
  }
 },
 "nbformat": 4,
 "nbformat_minor": 2
}
